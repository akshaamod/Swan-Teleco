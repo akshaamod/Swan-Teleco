{
 "cells": [
  {
   "cell_type": "markdown",
   "id": "d9437550-d1eb-4af5-818a-82c56b152b03",
   "metadata": {},
   "source": [
    "<p style=\"text-align:center;\">\n",
    "<img src=\"https://github.com/digital-futures-academy/DataScienceMasterResources/blob/main/Resources/datascience-notebook-header.png?raw=true\"\n",
    "     alt=\"DigitalFuturesLogo\"\n",
    "     style=\"float: center; margin-right: 10px;\" />\n",
    "</p>\n",
    "\n",
    "# Swan Consulting Workbook\n",
    "### <i>By Team White Swan</i>\n",
    "\n",
    "### Table Of Contents:\n",
    "* [General Properties](#1)\n",
    "* [Exploratory Data Analysis (EDA)](#2)\n",
    "* [Train-test-split](#3)\n",
    "\n",
    "\n",
    "The aim of this workbook is to ....."
   ]
  },
  {
   "cell_type": "code",
   "execution_count": null,
   "id": "ec624eca-86ed-4d27-b72f-cd6255039371",
   "metadata": {},
   "outputs": [],
   "source": []
  },
  {
   "cell_type": "code",
   "execution_count": null,
   "id": "b3d3b064-4816-49cd-95f0-3a0d9083c280",
   "metadata": {},
   "outputs": [],
   "source": []
  },
  {
   "cell_type": "code",
   "execution_count": null,
   "id": "de214dd6-5b89-47e0-aa33-07152c77813f",
   "metadata": {},
   "outputs": [],
   "source": []
  },
  {
   "cell_type": "markdown",
   "id": "6368596b-39b1-4934-b9c2-183d1f41e7e8",
   "metadata": {},
   "source": [
    "## **1** General properties <a class=\"anchor\" id=\"1\"></a>"
   ]
  },
  {
   "cell_type": "markdown",
   "id": "986f46e5-89a0-4275-9377-337ba83c31fe",
   "metadata": {},
   "source": [
    "## **2** EDA <a class=\"anchor\" id=\"2\"></a>"
   ]
  },
  {
   "cell_type": "markdown",
   "id": "f60446a4-e850-41cd-9c28-3b670ba9a4e0",
   "metadata": {},
   "source": [
    "## **3** Train-test-split <a class=\"anchor\" id=\"3\"></a>"
   ]
  },
  {
   "cell_type": "code",
   "execution_count": null,
   "id": "d0e0e6a3-907e-4bf5-9a49-c9daaca41aa5",
   "metadata": {},
   "outputs": [],
   "source": []
  }
 ],
 "metadata": {
  "kernelspec": {
   "display_name": "Python 3 (ipykernel)",
   "language": "python",
   "name": "python3"
  },
  "language_info": {
   "codemirror_mode": {
    "name": "ipython",
    "version": 3
   },
   "file_extension": ".py",
   "mimetype": "text/x-python",
   "name": "python",
   "nbconvert_exporter": "python",
   "pygments_lexer": "ipython3",
   "version": "3.11.7"
  }
 },
 "nbformat": 4,
 "nbformat_minor": 5
}
